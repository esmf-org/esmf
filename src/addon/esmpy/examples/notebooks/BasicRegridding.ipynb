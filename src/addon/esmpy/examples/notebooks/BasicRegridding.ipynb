{
 "cells": [
  {
   "cell_type": "markdown",
   "metadata": {},
   "source": [
    "# Basic regridding with ESMPy"
   ]
  },
  {
   "cell_type": "markdown",
   "metadata": {},
   "source": [
    "This example demonstrates how to regrid data between a basic Field pair built on Grids created from netCDF files."
   ]
  },
  {
   "cell_type": "code",
   "execution_count": 1,
   "metadata": {},
   "outputs": [
    {
     "name": "stderr",
     "output_type": "stream",
     "text": [
      "/home/ryan/.pyenv/versions/ESMPy-python3.10.5/lib/python3.10/site-packages/esmpy/interface/loadESMF.py:82: VersionWarning: ESMF installation version 8.5.0 beta snapshot, ESMPy version 8.5.0b1\n",
      "  warnings.warn(\"ESMF installation version {}, ESMPy version {}\".format(\n"
     ]
    }
   ],
   "source": [
    "import esmpy\n",
    "import numpy as np"
   ]
  },
  {
   "cell_type": "code",
   "execution_count": 2,
   "metadata": {},
   "outputs": [
    {
     "data": {
      "text/plain": [
       "True"
      ]
     },
     "execution_count": 2,
     "metadata": {},
     "output_type": "execute_result"
    }
   ],
   "source": [
    "import os\n",
    "from esmpy.util.cache_data import DATA_DIR\n",
    "from esmpy.util.cache_data import cache_data_file\n",
    "cache_data_file(os.path.join(DATA_DIR, \"ll1deg_grid.nc\"))\n",
    "cache_data_file(os.path.join(DATA_DIR, \"ll2.5deg_grid.nc\"))"
   ]
  },
  {
   "cell_type": "markdown",
   "metadata": {},
   "source": [
    "Create two uniform global lat-lon *Grids* from SCRIP format files."
   ]
  },
  {
   "cell_type": "code",
   "execution_count": 4,
   "metadata": {},
   "outputs": [],
   "source": [
    "srcgrid = esmpy.Grid(filename=os.path.join(DATA_DIR, \"ll1deg_grid.nc\"),\n",
    "                 filetype=esmpy.FileFormat.SCRIP, add_corner_stagger=True)\n",
    "dstgrid = esmpy.Grid(filename=os.path.join(DATA_DIR, \"ll2.5deg_grid.nc\"), \n",
    "                    filetype=esmpy.FileFormat.SCRIP, add_corner_stagger=True)"
   ]
  },
  {
   "cell_type": "markdown",
   "metadata": {},
   "source": [
    "Create Fields with data located at the centers of the Grid cells (default)."
   ]
  },
  {
   "cell_type": "code",
   "execution_count": 5,
   "metadata": {},
   "outputs": [],
   "source": [
    "srcfield = esmpy.Field(srcgrid)\n",
    "dstfield = esmpy.Field(dstgrid)"
   ]
  },
  {
   "cell_type": "markdown",
   "metadata": {},
   "source": [
    "Initialize the source field to a constant value."
   ]
  },
  {
   "cell_type": "code",
   "execution_count": 6,
   "metadata": {},
   "outputs": [],
   "source": [
    "srcfield.data[...] = 42"
   ]
  },
  {
   "cell_type": "markdown",
   "metadata": {},
   "source": [
    "Create an object to regrid data from the source to the destination *Field* using the bilinear method (default). Creating a *Regrid* object will generate regridding weights using the coordinates of the *Grid*, *Mesh*, or *LocStream* associated with input *Field*. Applying a *Regrid* on a *Field* pair will apply the weights to the second *Field* of the pair."
   ]
  },
  {
   "cell_type": "code",
   "execution_count": 7,
   "metadata": {},
   "outputs": [],
   "source": [
    "regridS2D = esmpy.Regrid(srcfield, dstfield)"
   ]
  },
  {
   "cell_type": "markdown",
   "metadata": {},
   "source": [
    "Apply the *Regrid* from the srcfield to the dstfield."
   ]
  },
  {
   "cell_type": "code",
   "execution_count": 8,
   "metadata": {},
   "outputs": [],
   "source": [
    "dstfield = regridS2D(srcfield, dstfield)"
   ]
  },
  {
   "cell_type": "markdown",
   "metadata": {},
   "source": [
    "Pointwise error is all less than 1e-11."
   ]
  },
  {
   "cell_type": "code",
   "execution_count": 9,
   "metadata": {},
   "outputs": [],
   "source": [
    "assert(np.all(dstfield.data[...] - 42 < 1e-11))"
   ]
  },
  {
   "cell_type": "code",
   "execution_count": null,
   "metadata": {},
   "outputs": [],
   "source": []
  }
 ],
 "metadata": {
  "kernelspec": {
   "display_name": "Python 3 (ipykernel)",
   "language": "python",
   "name": "python3"
  },
  "language_info": {
   "codemirror_mode": {
    "name": "ipython",
    "version": 3
   },
   "file_extension": ".py",
   "mimetype": "text/x-python",
   "name": "python",
   "nbconvert_exporter": "python",
   "pygments_lexer": "ipython3",
   "version": "3.10.5"
  }
 },
 "nbformat": 4,
 "nbformat_minor": 1
}
